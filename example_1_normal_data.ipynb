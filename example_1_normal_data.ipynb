{
 "cells": [
  {
   "cell_type": "markdown",
   "metadata": {},
   "source": [
    "# Fitting Distributions to Normally Distributed Data"
   ]
  },
  {
   "cell_type": "markdown",
   "metadata": {},
   "source": [
    "This example of <i>fitdist</i> illustrates how multiple different distributions can provide a good fit to the same data set.  This is especially true for pseudo-random normally distributed data.\n",
    "\n",
    "<p>In my experience, the normal distribution is seldom the best fitting distribution to normally distributed data.</p>\n",
    "\n",
    "<p>My theory of why this is so, is that the other distributions that provide better fits (e.g., powerlognorm, powernorm, gamma) have shape parameters, in addition to location and scale parameters (e.g., mean and variance), and the shape parameters allow those distributions to better fit small deviations from normality in the randomly generated data.</p>"
   ]
  },
  {
   "cell_type": "code",
   "execution_count": 3,
   "metadata": {},
   "outputs": [],
   "source": [
    "%matplotlib inline\n",
    "import matplotlib.pyplot as plt\n",
    "from IPython.core.pylabtools import figsize\n",
    "\n",
    "import os, sys\n",
    "import numpy as np\n",
    "from scipy.stats import norm\n",
    "\n",
    "import fitdist as fd"
   ]
  },
  {
   "cell_type": "markdown",
   "metadata": {},
   "source": [
    "## Generate Normal Random Data"
   ]
  },
  {
   "cell_type": "markdown",
   "metadata": {},
   "source": [
    "Generate a large data set of Standard Normal scalar observations (mean = 0,  variance = 1) and plot its normalized histogram:"
   ]
  },
  {
   "cell_type": "code",
   "execution_count": 4,
   "metadata": {},
   "outputs": [
    {
     "data": {
      "image/png": "[encoded data removed]",
      "text/plain": [
       "<Figure size 432x288 with 1 Axes>"
      ]
     },
     "metadata": {},
     "output_type": "display_data"
    }
   ],
   "source": [
    "data = norm.rvs(size=10000)\n",
    "\n",
    "nbins = 25\n",
    "\n",
    "_, _, _ = plt.hist(data, nbins, density=True, facecolor='blue', alpha=0.55)"
   ]
  },
  {
   "cell_type": "markdown",
   "metadata": {},
   "source": [
    "## Find the Best Fitting Continuous Distributions"
   ]
  },
  {
   "cell_type": "markdown",
   "metadata": {},
   "source": [
    "The following call to fitdist examines the 18 common distributions, rather than all 90 that are available in SciPy."
   ]
  },
  {
   "cell_type": "code",
   "execution_count": 5,
   "metadata": {
    "scrolled": false
   },
   "outputs": [
    {
     "name": "stderr",
     "output_type": "stream",
     "text": [
      "/Users/alfredreich/anaconda/lib/python3.6/site-packages/scipy/stats/_distn_infrastructure.py:2316: RuntimeWarning: invalid value encountered in double_scalars\n",
      "  Lhat = muhat - Shat*mu\n",
      "/Users/alfredreich/anaconda/lib/python3.6/site-packages/scipy/optimize/minpack.py:162: RuntimeWarning: The iteration is not making good progress, as measured by the \n",
      "  improvement from the last ten iterations.\n",
      "  warnings.warn(msg, RuntimeWarning)\n",
      "/Users/alfredreich/anaconda/lib/python3.6/site-packages/scipy/stats/_continuous_distns.py:5689: RuntimeWarning: divide by zero encountered in power\n",
      "  pow(_norm_cdf(-np.log(x)/s), c*1.0-1.0))\n",
      "/Users/alfredreich/anaconda/lib/python3.6/site-packages/scipy/stats/_continuous_distns.py:5689: RuntimeWarning: invalid value encountered in multiply\n",
      "  pow(_norm_cdf(-np.log(x)/s), c*1.0-1.0))\n",
      "/Users/alfredreich/anaconda/lib/python3.6/site-packages/scipy/stats/_distn_infrastructure.py:1625: RuntimeWarning: divide by zero encountered in log\n",
      "  return log(self._pdf(x, *args))\n",
      "/Users/alfredreich/anaconda/lib/python3.6/site-packages/scipy/stats/_continuous_distns.py:6408: RuntimeWarning: divide by zero encountered in power\n",
      "  Px = Fx**(lam-1.0) + (np.asarray(1-Fx))**(lam-1.0)\n"
     ]
    }
   ],
   "source": [
    "results = fd.find_best_fit_distributions(data)"
   ]
  },
  {
   "cell_type": "markdown",
   "metadata": {},
   "source": [
    "## Print the Results"
   ]
  },
  {
   "cell_type": "markdown",
   "metadata": {},
   "source": [
    "Recall that each entry in the output list includes:\n",
    "\n",
    "* the distribution name,\n",
    "* a list of the MLE parameter estimates (in scipy.stat's defined order),\n",
    "* and the Kolmogorov-Smirnov Goodness-of-Fit p-value."
   ]
  },
  {
   "cell_type": "code",
   "execution_count": 6,
   "metadata": {},
   "outputs": [
    {
     "name": "stdout",
     "output_type": "stream",
     "text": [
      "['powerlognorm', (3.0319972593272864, 0.083606178614623952, -16.20253269390566, 17.348620339227452), 0.91849728076183834]\n",
      "['exponweib', (4.0044557953181457, 5.0813216742955749, -8.8798110982768517, 7.8636572395356765), 0.87785264609728886]\n",
      "['powernorm', (1.1376790052317345, 0.10140855181842676, 1.0426743001684147), 0.85598753176898645]\n",
      "['t', (294.82295784250243, -0.017538117517038543, 1.000496646192945), 0.85003009451112443]\n",
      "['beta', (18693878.614714976, 5914.9784339872595, -244053.54124540373, 244130.74523068959), 0.8282095361676991]\n",
      "['norm', (-0.017620571683893131, 1.0039071113803162), 0.7873851585385544]\n",
      "['fatiguelife', (0.0092820387459725123, -108.15779483617536, 108.13702855922344), 0.66630449690972493]\n",
      "['gamma', (7481.3271635608089, -86.885613199340469, 0.011611259455723274), 0.57547261298648988]\n",
      "['lognorm', (0.014245963708589521, -70.520825690792577, 70.495653307720318), 0.42788013382009993]\n"
     ]
    }
   ],
   "source": [
    "for result in results:\n",
    "    print(result)"
   ]
  },
  {
   "cell_type": "markdown",
   "metadata": {},
   "source": [
    "## Plot the #1 Result"
   ]
  },
  {
   "cell_type": "markdown",
   "metadata": {},
   "source": [
    "<i><b>CAVEAT</b>: For this particular run of this notebook, the best fit distribution was the <b>powerlognorm</b> distribution.  For subsequent runs, the result might be different, so the code in the cell below will need to be adjusted accordingly.</i>\n",
    "\n",
    "The first item in the <b><i>results</i></b> list, above, is the sublist in the 0 position (pos = 0).  The MLE parameters for the distribution identified in that sublist is the item in the 1 position (2nd item)."
   ]
  },
  {
   "cell_type": "code",
   "execution_count": 7,
   "metadata": {},
   "outputs": [
    {
     "data": {
      "image/png": "[encoded data removed]",
      "text/plain": [
       "<Figure size 432x288 with 1 Axes>"
      ]
     },
     "metadata": {},
     "output_type": "display_data"
    }
   ],
   "source": [
    "from scipy.stats import powerlognorm\n",
    "\n",
    "pos = 0\n",
    "mle = results[pos][1]\n",
    "dist_name = \"powerlognorm\"  # may vary run-to-run; change code below accordingly\n",
    "\n",
    "x = np.linspace(powerlognorm.ppf(0.001, *mle), powerlognorm.ppf(0.999, *mle), 100)\n",
    "\n",
    "plt.plot(x, powerlognorm.pdf(x, *mle), 'r-', lw=3, alpha=0.6, label=dist_name)\n",
    "\n",
    "_, _, _ = plt.hist(data, nbins, density=True, facecolor='blue', alpha=0.55)"
   ]
  },
  {
   "cell_type": "markdown",
   "metadata": {},
   "source": [
    "## Plot the Normal Distribution's Result"
   ]
  },
  {
   "cell_type": "code",
   "execution_count": 8,
   "metadata": {},
   "outputs": [
    {
     "data": {
      "image/png": "[encoded data removed]",
      "text/plain": [
       "<Figure size 432x288 with 1 Axes>"
      ]
     },
     "metadata": {},
     "output_type": "display_data"
    }
   ],
   "source": [
    "pos = 5\n",
    "mle = results[pos][1]\n",
    "dist_name = \"norm\"\n",
    "\n",
    "x = np.linspace(norm.ppf(0.001, *mle), norm.ppf(0.999, *mle), 100)\n",
    "\n",
    "plt.plot(x, norm.pdf(x, *mle), 'r-', lw=3, alpha=0.6, label=dist_name)\n",
    "\n",
    "_, _, _ = plt.hist(data, nbins, density=True, facecolor='blue', alpha=0.55)"
   ]
  }
 ],
 "metadata": {
  "kernelspec": {
   "display_name": "Python 3",
   "language": "python",
   "name": "python3"
  },
  "language_info": {
   "codemirror_mode": {
    "name": "ipython",
    "version": 3
   },
   "file_extension": ".py",
   "mimetype": "text/x-python",
   "name": "python",
   "nbconvert_exporter": "python",
   "pygments_lexer": "ipython3",
   "version": "3.6.8"
  }
 },
 "nbformat": 4,
 "nbformat_minor": 2
}
